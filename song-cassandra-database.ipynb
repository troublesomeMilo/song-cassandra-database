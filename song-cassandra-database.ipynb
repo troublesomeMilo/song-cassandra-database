{
 "cells": [
  {
   "cell_type": "markdown",
   "metadata": {},
   "source": [
    "# Part I. ETL Pipeline for Pre-Processing the Files"
   ]
  },
  {
   "cell_type": "markdown",
   "metadata": {},
   "source": [
    "#### Import Python packages "
   ]
  },
  {
   "cell_type": "code",
   "execution_count": 1,
   "metadata": {},
   "outputs": [],
   "source": [
    "# Import Python packages \n",
    "import pandas as pd\n",
    "import cassandra\n",
    "import re\n",
    "import os\n",
    "import glob\n",
    "import numpy as np\n",
    "import json\n",
    "import csv"
   ]
  },
  {
   "cell_type": "markdown",
   "metadata": {},
   "source": [
    "#### Creating list of filepaths to process original event csv data files"
   ]
  },
  {
   "cell_type": "code",
   "execution_count": 4,
   "metadata": {},
   "outputs": [
    {
     "name": "stdout",
     "output_type": "stream",
     "text": [
      "/home/workspace\n"
     ]
    }
   ],
   "source": [
    "# checking your current working directory\n",
    "print(os.getcwd())\n",
    "\n",
    "# Get your current folder and subfolder event data\n",
    "filepath = os.getcwd() + '/event_data'\n",
    "\n",
    "# Create a for loop to create a list of files and collect each filepath\n",
    "for root, dirs, files in os.walk(filepath):\n",
    "    \n",
    "# join the file path and roots with the subdirectories using glob\n",
    "    file_path_list = glob.glob(os.path.join(root,'*'))\n",
    "    #print(file_path_list)"
   ]
  },
  {
   "cell_type": "markdown",
   "metadata": {},
   "source": [
    "#### Processing the files to create the data file csv that will be used for Apache Casssandra tables"
   ]
  },
  {
   "cell_type": "code",
   "execution_count": 5,
   "metadata": {},
   "outputs": [],
   "source": [
    "# initiating an empty list of rows that will be generated from each file\n",
    "full_data_rows_list = [] \n",
    "    \n",
    "# for every filepath in the file path list \n",
    "for f in file_path_list:\n",
    "\n",
    "# reading csv file \n",
    "    with open(f, 'r', encoding = 'utf8', newline='') as csvfile: \n",
    "        # creating a csv reader object \n",
    "        csvreader = csv.reader(csvfile) \n",
    "        next(csvreader)\n",
    "        \n",
    " # extracting each data row one by one and append it        \n",
    "        for line in csvreader:\n",
    "            #print(line)\n",
    "            full_data_rows_list.append(line) \n",
    "            \n",
    "# uncomment the code below if you would like to get total number of rows \n",
    "#print(len(full_data_rows_list))\n",
    "# uncomment the code below if you would like to check to see what the list of event data rows will look like\n",
    "#print(full_data_rows_list)\n",
    "\n",
    "# creating a smaller event data csv file called event_datafile_full csv that will be used to insert data into the \\\n",
    "# Apache Cassandra tables\n",
    "csv.register_dialect('myDialect', quoting=csv.QUOTE_ALL, skipinitialspace=True)\n",
    "\n",
    "with open('event_datafile_new.csv', 'w', encoding = 'utf8', newline='') as f:\n",
    "    writer = csv.writer(f, dialect='myDialect')\n",
    "    writer.writerow(['artist','firstName','gender','itemInSession','lastName','length',\\\n",
    "                'level','location','sessionId','song','userId'])\n",
    "    for row in full_data_rows_list:\n",
    "        if (row[0] == ''):\n",
    "            continue\n",
    "        writer.writerow((row[0], row[2], row[3], row[4], row[5], row[6], row[7], row[8], row[12], row[13], row[16]))\n"
   ]
  },
  {
   "cell_type": "code",
   "execution_count": 6,
   "metadata": {},
   "outputs": [
    {
     "name": "stdout",
     "output_type": "stream",
     "text": [
      "6821\n"
     ]
    }
   ],
   "source": [
    "# check the number of rows in your csv file\n",
    "with open('event_datafile_new.csv', 'r', encoding = 'utf8') as f:\n",
    "    print(sum(1 for line in f))"
   ]
  },
  {
   "cell_type": "markdown",
   "metadata": {},
   "source": [
    "# Part II. Complete the Apache Cassandra coding portion of your project. \n",
    "\n",
    "## An event data CSV file titled <font color=red>event_datafile_new.csv</font> has been generated, located within the Workspace directory. The event_datafile_new.csv contains the following columns: \n",
    "- artist \n",
    "- firstName of user\n",
    "- gender of user\n",
    "- item number in session\n",
    "- last name of user\n",
    "- length of the song\n",
    "- level (paid or free song)\n",
    "- location of the user\n",
    "- sessionId\n",
    "- song title\n",
    "- userId\n",
    "\n",
    "The image below is a screenshot of what the denormalized data should appear like in the <font color=red>**event_datafile_new.csv**</font> after the code above is run:<br>\n",
    "\n",
    "<img src=\"images/image_event_datafile_new.jpg\">"
   ]
  },
  {
   "cell_type": "markdown",
   "metadata": {},
   "source": [
    "## Apache Cassandra code is presented in the cells below, Cassandra is manipulated using the cassandra python driver"
   ]
  },
  {
   "cell_type": "markdown",
   "metadata": {},
   "source": [
    "#### Creating a Cluster to work within"
   ]
  },
  {
   "cell_type": "code",
   "execution_count": 2,
   "metadata": {},
   "outputs": [],
   "source": [
    "# This should make a connection to a Cassandra instance your local machine \n",
    "# (127.0.0.1)\n",
    "\n",
    "from cassandra.cluster import Cluster\n",
    "cluster = Cluster()\n",
    "\n",
    "# To establish connection and begin executing queries, need a session\n",
    "session = cluster.connect()"
   ]
  },
  {
   "cell_type": "markdown",
   "metadata": {},
   "source": [
    "#### Create Keyspace for this project"
   ]
  },
  {
   "cell_type": "code",
   "execution_count": 3,
   "metadata": {},
   "outputs": [],
   "source": [
    "# Create a Keyspace name 'sparkify'\n",
    "\n",
    "try:\n",
    "    session.execute(\"\"\"\n",
    "    CREATE KEYSPACE IF NOT EXISTS sparkify \n",
    "    WITH REPLICATION = \n",
    "    { 'class' : 'SimpleStrategy', 'replication_factor' : 1 }\"\"\"\n",
    ")\n",
    "\n",
    "except Exception as e:\n",
    "    print(e)"
   ]
  },
  {
   "cell_type": "markdown",
   "metadata": {},
   "source": [
    "#### Set Keyspace so that queries may be executed in it"
   ]
  },
  {
   "cell_type": "code",
   "execution_count": 4,
   "metadata": {},
   "outputs": [],
   "source": [
    "# Set KEYSPACE to the keyspace 'sparkify'\n",
    "\n",
    "try:\n",
    "    session.set_keyspace('sparkify')\n",
    "except Exception as e:\n",
    "    print(e)"
   ]
  },
  {
   "cell_type": "markdown",
   "metadata": {},
   "source": [
    "## Creating queries to ask and answer the following three questions of the data\n",
    "\n",
    "NoSQL databases like Cassandra must create tables and model data based on the queries to be run against them. They are not optimized for ad hoc queries. For the purpose of this project, it is assumed that the analysis group presented the following queries as representative of the queries they intend to run regularly against the data. Thus the tables must be created with them in mind. The example queries are as follows:\n",
    "\n",
    "### 1. Give me the artist, song title and song's length in the music app history that was heard during  sessionId = 338, and itemInSession  = 4\n",
    "\n",
    "This query implies the need for a primary key based on session ID and item in sesssion given that they are mentioned explicitly in the example query. Since the item in session values are unique to each session ID, the table should be partitioned by session ID. Item in session should be a clustering column. These two columsn should be sufficient to uniquely identify each row. Additionally the columns asked for should be included in the table.\n",
    "\n",
    "**session_library**\n",
    "- sessionId: partition key\n",
    "- itemInSession: clustering key\n",
    "- artist\n",
    "- song\n",
    "- length\n",
    "\n",
    "**QUERY**\n",
    "    \n",
    "    SELECT artist, song, length\n",
    "    FROM session_library\n",
    "    WHERE sessionID = 338 AND itemInSession = 4;\n",
    "\n",
    "### 2. Give me only the following: name of artist, song (sorted by itemInSession) and user (first and last name) for userid = 10, sessionid = 182\n",
    "    \n",
    "This query implies the need for a primary key based on user ID and session ID given that they are mentioned explicitly in the example query. There is also a need to sort by item in session because songs are uniquely identified in a session by the item in session ID. Thus the partition key should be user ID. This will make each partition unique to each user, creating a log of songs played, ordered by session ID and item in session. The session ID and item in session should be the clustering columns. These columns are sufficient to uniquely identify each row. Additionally the columns asked for should be included in the table.\n",
    "\n",
    "**user_library**\n",
    "- userId: partition key\n",
    "- sessionId: clustering key\n",
    "- itemIdSession: clustering key\n",
    "- song\n",
    "- artist\n",
    "- firstName\n",
    "- lastName\n",
    "\n",
    "**QUERY**\n",
    "\n",
    "    SELECT artist, song, firstName, lastName\n",
    "    FROM user_library\n",
    "    WHERE userID = 10 AND sessionID = 182;\n",
    "    \n",
    "### 3. Give me every user name (first and last) in my music app history who listened to the song 'All Hands Against His Own'\n",
    "\n",
    "This query implies the need for a primary key based on song given that a song name is mentioned explicitly in the example query. Since no other conditional columns are mentioned in the query, song name should act as the partition key. This will create partitions unique to each song, logging the users that play that given song. Adding clustering columns of artist and userId should create a unique primary key for each row in the table.\n",
    "\n",
    "**song_library**\n",
    "- song: partition key\n",
    "- artist: clustering key\n",
    "- userId: clustering key\n",
    "- firstName\n",
    "- lastName\n",
    "\n",
    "**QUERY**\n",
    "\n",
    "    SELECT firstName, lastName\n",
    "    FROM song_library\n",
    "    WHERE song = 'All Hands Against His Own';\n",
    "    \n",
    "## Create queries to generate the tables, load them with data, and test them with the associated queries\n",
    "\n",
    "For each of the example queries developed above, a table is created. The queries are unique to such a degree that unique tables must be created for each query. The following code creates the tables, loads them with the applicable data, and executes the example select queries provided. "
   ]
  },
  {
   "cell_type": "code",
   "execution_count": 5,
   "metadata": {},
   "outputs": [],
   "source": [
    "## Query 1:  Give me the artist, song title and song's length in the music app history that was heard during \\\n",
    "## sessionId = 338, and itemInSession = 4\n",
    "## \n",
    "## CREATE TABLE EXECUTION\n",
    "\n",
    "query = \"\"\"CREATE TABLE IF NOT EXISTS session_library (\n",
    "           sessionID INT\n",
    "         , itemInSession INT\n",
    "         , artist TEXT\n",
    "         , song TEXT\n",
    "         , length DECIMAL\n",
    "         , PRIMARY KEY (sessionID, itemInSession)\n",
    "           )\"\"\"\n",
    "try:\n",
    "    session.execute(query)\n",
    "except Exception as e:\n",
    "    print(e)                    "
   ]
  },
  {
   "cell_type": "code",
   "execution_count": 6,
   "metadata": {
    "scrolled": false
   },
   "outputs": [],
   "source": [
    "## INSERT DATA INTO TABLES\n",
    "\n",
    "file = 'event_datafile_new.csv' # event datafile generated from event_data files\n",
    "\n",
    "with open(file, encoding = 'utf8') as f: # opens event datafile\n",
    "    csvreader = csv.reader(f) # generates csv object\n",
    "    next(csvreader) # skips header row\n",
    "    \n",
    "    for line in csvreader: # iterates through every row in the event datafile\n",
    "        \n",
    "        ## Generates a row insertion statement, injecting applicable values from the event datafile\n",
    "        query = \"INSERT INTO session_library (sessionID, itemInSession, artist, song, length) \"\n",
    "        query = query + \"VALUES (%s, %s, %s, %s, %s)\"\n",
    "        \n",
    "        ## All values in the event datafile are stored as strings, thus some values must be converted to the appropriate\n",
    "        ## datatypes as dictated by the table definition. Then the query is executed for each row in the event datafile.\n",
    "        session.execute(query, (int(line[8]), int(line[3]), line[0], line[9], float(line[5])))"
   ]
  },
  {
   "cell_type": "code",
   "execution_count": 7,
   "metadata": {
    "scrolled": true
   },
   "outputs": [
    {
     "name": "stdout",
     "output_type": "stream",
     "text": [
      "Row(artist='Faithless', song='Music Matters (Mark Knight Dub)', length=Decimal('495.3073'))\n"
     ]
    }
   ],
   "source": [
    "## EXECUTE TEST SELECT QUERY\n",
    "\n",
    "query = \"\"\"SELECT artist, song, length\n",
    "           FROM session_library\n",
    "           WHERE sessionID = 338 AND itemInSession = 4;\"\"\"\n",
    "\n",
    "results = session.execute_async(query) # execute_async allows for generation of result() object for printing\n",
    "rows = results.result()\n",
    "\n",
    "## print all rows of result table\n",
    "print(\"QUERY 1 TEST:\")\n",
    "for row in rows:\n",
    "    print(row)"
   ]
  },
  {
   "cell_type": "code",
   "execution_count": 8,
   "metadata": {},
   "outputs": [],
   "source": [
    "## Query 2: Give me only the following: name of artist, song (sorted by itemInSession) and user (first and last name)\\\n",
    "## for userid = 10, sessionid = 182\n",
    "## \n",
    "## CREATE TABLE EXECUTION\n",
    "\n",
    "query = \"\"\"CREATE TABLE IF NOT EXISTS user_library (\n",
    "           userID INT\n",
    "         , sessionID INT\n",
    "         , itemInSession INT\n",
    "         , song TEXT\n",
    "         , artist TEXT\n",
    "         , firstName TEXT\n",
    "         , lastName TEXT\n",
    "         , PRIMARY KEY (userID, sessionID, itemInSession)\n",
    "           )\"\"\"\n",
    "try:\n",
    "    session.execute(query)\n",
    "except Exception as e:\n",
    "    print(e)   "
   ]
  },
  {
   "cell_type": "code",
   "execution_count": 9,
   "metadata": {},
   "outputs": [],
   "source": [
    "## INSERT DATA INTO TABLE\n",
    "\n",
    "file = 'event_datafile_new.csv' # event datafile generated from event_data files\n",
    "\n",
    "with open(file, encoding = 'utf8') as f: # opens event datafile\n",
    "    csvreader = csv.reader(f) # generates csv object\n",
    "    next(csvreader) # skips header row\n",
    "    \n",
    "    for line in csvreader: # iterates through every row in the event datafile\n",
    "        \n",
    "        ## Generates a row insertion statement, injecting applicable values from the event datafile\n",
    "        query = \"INSERT INTO user_library (userID, sessionID, itemInSession, artist, song, firstName, lastName)\"\n",
    "        query = query + \"VALUES (%s, %s, %s, %s, %s, %s, %s)\"\n",
    "        \n",
    "        ## All values in the event datafile are stored as strings, thus some values must be converted to the appropriate\n",
    "        ## datatypes as dictated by the table definition. Then the query is executed for each row in the event datafile.\n",
    "        session.execute(query, (int(line[10]), int(line[8]), int(line[3]), line[0], line[9], line[1], line[4]))  "
   ]
  },
  {
   "cell_type": "code",
   "execution_count": 10,
   "metadata": {},
   "outputs": [
    {
     "name": "stdout",
     "output_type": "stream",
     "text": [
      "Row(artist='Down To The Bone', song=\"Keep On Keepin' On\", firstname='Sylvie', lastname='Cruz')\n",
      "Row(artist='Three Drives', song='Greece 2000', firstname='Sylvie', lastname='Cruz')\n",
      "Row(artist='Sebastien Tellier', song='Kilometer', firstname='Sylvie', lastname='Cruz')\n",
      "Row(artist='Lonnie Gordon', song='Catch You Baby (Steve Pitron & Max Sanna Radio Edit)', firstname='Sylvie', lastname='Cruz')\n"
     ]
    }
   ],
   "source": [
    "## EXECUTE TEST SELECT QUERY\n",
    "\n",
    "query = \"\"\"SELECT artist, song, firstName, lastName\n",
    "           FROM user_library\n",
    "           WHERE userID = 10 AND sessionID = 182;\"\"\"\n",
    "\n",
    "results = session.execute_async(query) # execute_async allows for generation of result() object for printing\n",
    "rows = results.result()\n",
    "\n",
    "## print all rows of result table\n",
    "print(\"QUERY 2 TEST:\")\n",
    "for row in rows:\n",
    "    print(row)"
   ]
  },
  {
   "cell_type": "code",
   "execution_count": 15,
   "metadata": {},
   "outputs": [],
   "source": [
    "## Query 3: Give me every user name (first and last) in my music app history who listened to the song 'All Hands Against His Own'\n",
    "## \n",
    "## CREATE TABLE EXECUTION\n",
    "\n",
    "query = \"\"\"CREATE TABLE IF NOT EXISTS song_library (\n",
    "           song TEXT\n",
    "         , artist TEXT\n",
    "         , userID INT\n",
    "         , firstName TEXT\n",
    "         , lastName TEXT\n",
    "         , PRIMARY KEY (song, artist, userID)\n",
    "           )\"\"\"\n",
    "try:\n",
    "    session.execute(query)\n",
    "except Exception as e:\n",
    "    print(e)                       "
   ]
  },
  {
   "cell_type": "code",
   "execution_count": 16,
   "metadata": {},
   "outputs": [],
   "source": [
    "## INSERT DATA INTO TABLE\n",
    "\n",
    "file = 'event_datafile_new.csv' # event datafile generated from event_data files\n",
    "\n",
    "with open(file, encoding = 'utf8') as f: # opens event datafile\n",
    "    csvreader = csv.reader(f) # generates csv object\n",
    "    next(csvreader) # skips header row\n",
    "    \n",
    "    for line in csvreader: # iterates through every row in the event datafile\n",
    "        \n",
    "        ## Generates a row insertion statement, injecting applicable values from the event datafile\n",
    "        query = \"INSERT INTO song_library (song, artist, userID, firstName, lastName)\"\n",
    "        query = query + \"VALUES (%s, %s, %s, %s, %s)\"\n",
    "        \n",
    "        ## All values in the event datafile are stored as strings, thus some values must be converted to the appropriate\n",
    "        ## datatypes as dictated by the table definition. Then the query is executed for each row in the event datafile\n",
    "        session.execute(query, (line[9], line[0], int(line[10]), line[1], line[4]))  "
   ]
  },
  {
   "cell_type": "code",
   "execution_count": 17,
   "metadata": {},
   "outputs": [
    {
     "name": "stdout",
     "output_type": "stream",
     "text": [
      "Row(firstname='Jacqueline', lastname='Lynch')\n",
      "Row(firstname='Tegan', lastname='Levine')\n",
      "Row(firstname='Sara', lastname='Johnson')\n"
     ]
    }
   ],
   "source": [
    "## EXECUTE TEST SELECT QUERY\n",
    "\n",
    "query = \"\"\"SELECT firstName, lastName\n",
    "           FROM song_library\n",
    "           WHERE song = 'All Hands Against His Own';\"\"\"\n",
    "\n",
    "results = session.execute_async(query) # execute_async allows for generation of result() object for printing\n",
    "rows = results.result()\n",
    "\n",
    "## print all rows of result table\n",
    "print(\"QUERY 3 TEST:\")\n",
    "for row in rows:\n",
    "    print(row)"
   ]
  },
  {
   "cell_type": "markdown",
   "metadata": {},
   "source": [
    "### Drop the tables before closing out the sessions"
   ]
  },
  {
   "cell_type": "code",
   "execution_count": 4,
   "metadata": {},
   "outputs": [
    {
     "data": {
      "text/plain": [
       "<cassandra.cluster.ResultSet at 0x7fcb685a0438>"
      ]
     },
     "execution_count": 4,
     "metadata": {},
     "output_type": "execute_result"
    }
   ],
   "source": [
    "## Drop the table before closing out the sessions\n",
    "session.execute(\"DROP TABLE IF EXISTS session_library;\")"
   ]
  },
  {
   "cell_type": "code",
   "execution_count": null,
   "metadata": {},
   "outputs": [],
   "source": [
    "session.execute(\"DROP TABLE IF EXISTS user_library;\")"
   ]
  },
  {
   "cell_type": "code",
   "execution_count": 14,
   "metadata": {},
   "outputs": [
    {
     "data": {
      "text/plain": [
       "<cassandra.cluster.ResultSet at 0x7fed761bed30>"
      ]
     },
     "execution_count": 14,
     "metadata": {},
     "output_type": "execute_result"
    }
   ],
   "source": [
    "session.execute(\"DROP TABLE IF EXISTS song_library;\")"
   ]
  },
  {
   "cell_type": "markdown",
   "metadata": {},
   "source": [
    "### Close the session and cluster connection¶"
   ]
  },
  {
   "cell_type": "code",
   "execution_count": null,
   "metadata": {},
   "outputs": [],
   "source": [
    "session.shutdown()\n",
    "cluster.shutdown()"
   ]
  }
 ],
 "metadata": {
  "kernelspec": {
   "display_name": "Python 3",
   "language": "python",
   "name": "python3"
  },
  "language_info": {
   "codemirror_mode": {
    "name": "ipython",
    "version": 3
   },
   "file_extension": ".py",
   "mimetype": "text/x-python",
   "name": "python",
   "nbconvert_exporter": "python",
   "pygments_lexer": "ipython3",
   "version": "3.6.3"
  }
 },
 "nbformat": 4,
 "nbformat_minor": 2
}
